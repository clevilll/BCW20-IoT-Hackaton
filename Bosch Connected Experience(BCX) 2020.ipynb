{
 "cells": [
  {
   "cell_type": "markdown",
   "metadata": {},
   "source": [
    "# Bosch Connected Experience (BCX) 2020"
   ]
  },
  {
   "cell_type": "markdown",
   "metadata": {},
   "source": [
    "## Implementation of Grow Clean Air under the concept of [City Tree](https://greencitysolutions.de/en/) in BCX20 by: "
   ]
  },
  {
   "cell_type": "markdown",
   "metadata": {},
   "source": [
    "$Mehryar{\\,}Majd$       ${\\,}{\\,}{\\,}{\\,}{\\,}{\\,}{\\,}$           __Gmail: mehryar.majd@gmail.com__"
   ]
  },
  {
   "cell_type": "markdown",
   "metadata": {},
   "source": [
    "__17-18 Feb, 2020, Berlin__ "
   ]
  },
  {
   "cell_type": "code",
   "execution_count": 7,
   "metadata": {},
   "outputs": [
    {
     "name": "stderr",
     "output_type": "stream",
     "text": [
      "'[title1]' is not recognized as an internal or external command,\n",
      "operable program or batch file.\n"
     ]
    }
   ],
   "source": [
    "![title1](CityTree.png)"
   ]
  },
  {
   "cell_type": "markdown",
   "metadata": {},
   "source": [
    "![title2](IM_CityTree.jpg)"
   ]
  },
  {
   "cell_type": "code",
   "execution_count": null,
   "metadata": {
    "colab": {
     "base_uri": "https://localhost:8080/",
     "height": 121
    },
    "colab_type": "code",
    "id": "GMnz83CLZSGK",
    "outputId": "08633054-e1b9-4aa4-b5c5-06d2516f1f28"
   },
   "outputs": [],
   "source": [
    "#!/usr/bin/env python 2. \n",
    "# -*- coding: utf-8 -*- \n",
    "__author__ = \"Mehryar Majd\" \n",
    "__copyright__ = [\"Copyright 2020, Grow Clean Air \"] \n",
    "__credits__ = [\"Mehryar Majd\",\"Bosch Connected Experience(BCX) 2020\"] \n",
    "__license__ = \"Hackathon\" \n",
    "__version__ = \"Python 3.6\" \n",
    "__maintainer__ = \"Mehryar Majd\" \n",
    "__email__ = \"mehryar.majd@gmail.com\" \n",
    "__status__ = \"Prototype\" \n",
    "\n",
    "'''  Provides prediction of humidity, temperature, fan speed & dif pressure developments on eTree based on time series. \n",
    "       Preprocessing data phase: Sorting, clean data, identification and plotting missing data, detect outliers \n",
    "       Missing data analysis, missing data frequency visualization  --->  missingno module. \n",
    "       ****************************************************\n",
    "       ML & DL models implementation phase using multiprocessing & multithreading: \n",
    "       Splitting data, Creating ANNs/DNNs models: LSTM. \n",
    "       Design, fit, compile models, train & test data, \n",
    "       \n",
    "       **************************************************** \n",
    "       Implementing evaluation: Plot loss plots, Print results: MAE, MSE \n",
    "       \n",
    "''' "
   ]
  },
  {
   "cell_type": "markdown",
   "metadata": {},
   "source": [
    "# Import and call the needed libraries"
   ]
  },
  {
   "cell_type": "code",
   "execution_count": 32,
   "metadata": {},
   "outputs": [],
   "source": [
    "# Import and call the needed libraries\n",
    "import pandas as pd\n",
    "import numpy as np\n",
    "import os\n",
    "import csv\n",
    "\n",
    "from keras.models import Sequential\n",
    "from keras.layers import Dense, LSTM, Dropout, Activation , BatchNormalization, GRU, Flatten\n",
    "from keras.callbacks import EarlyStopping\n",
    "\n",
    "import numpy\n",
    "from numpy import array, hstack\n",
    "from numpy.random import uniform\n",
    "\n",
    "import matplotlib.pyplot as plt\n",
    "\n",
    "from sklearn.model_selection import train_test_split, KFold, cross_val_score\n",
    "from sklearn.metrics import mean_squared_error, confusion_matrix, auc, roc_curve, mean_absolute_error\n",
    "from sklearn import preprocessing, tree, linear_model\n",
    "from sklearn.svm import SVR\n",
    "from sklearn.neural_network import MLPRegressor\n",
    "from sklearn.pipeline import Pipeline, make_pipeline\n",
    "from sklearn.decomposition import PCA\n",
    "from sklearn.linear_model import Ridge, LogisticRegression\n",
    "from sklearn.preprocessing import PolynomialFeatures, MinMaxScaler, StandardScaler\n",
    "from sklearn import ensemble\n",
    "from sklearn import datasets\n",
    "\n",
    "import seaborn as sns\n",
    "\n",
    "import sys\n",
    "import time\n",
    "import datetime\n",
    "from math import sqrt\n",
    "import math\n",
    "from itertools import cycle\n",
    "\n",
    "from scipy.special import boxcox1p\n",
    "from scipy import stats\n",
    "from scipy import interp\n",
    "\n",
    "from pandas import read_csv\n",
    "\n",
    "from tabulate import tabulate\n"
   ]
  },
  {
   "cell_type": "code",
   "execution_count": 3,
   "metadata": {
    "colab": {
     "base_uri": "https://localhost:8080/",
     "height": 34
    },
    "colab_type": "code",
    "id": "9dm8JRHcZc9M",
    "outputId": "1080905d-f4fd-4e48-a9e0-444703c5a40b"
   },
   "outputs": [
    {
     "name": "stdout",
     "output_type": "stream",
     "text": [
      "True\n"
     ]
    }
   ],
   "source": [
    "fn = 'D:/berlin_sensordata.json.gz'\n",
    "print(os.path.isfile(fn))\n",
    "df = pd.read_json(fn, lines=True, compression='gzip')"
   ]
  },
  {
   "cell_type": "code",
   "execution_count": 5,
   "metadata": {
    "colab": {
     "base_uri": "https://localhost:8080/",
     "height": 434
    },
    "colab_type": "code",
    "id": "31WRe9Y2Zgg_",
    "outputId": "e49358cc-2699-4961-baa3-194364cf7e1e"
   },
   "outputs": [
    {
     "data": {
      "text/html": [
       "<div>\n",
       "<style scoped>\n",
       "    .dataframe tbody tr th:only-of-type {\n",
       "        vertical-align: middle;\n",
       "    }\n",
       "\n",
       "    .dataframe tbody tr th {\n",
       "        vertical-align: top;\n",
       "    }\n",
       "\n",
       "    .dataframe thead th {\n",
       "        text-align: right;\n",
       "    }\n",
       "</style>\n",
       "<table border=\"1\" class=\"dataframe\">\n",
       "  <thead>\n",
       "    <tr style=\"text-align: right;\">\n",
       "      <th></th>\n",
       "      <th>absoluteHumidity1</th>\n",
       "      <th>absoluteHumidity2</th>\n",
       "      <th>aggregated</th>\n",
       "      <th>air</th>\n",
       "      <th>airQualityIndexPollutants</th>\n",
       "      <th>currentActuatorConfig</th>\n",
       "      <th>differentialPressurePascal</th>\n",
       "      <th>fan1Rpm</th>\n",
       "      <th>fan2Rpm</th>\n",
       "      <th>humidity1</th>\n",
       "      <th>humidity2</th>\n",
       "      <th>id</th>\n",
       "      <th>moduleId</th>\n",
       "      <th>receivedTimestamp</th>\n",
       "      <th>state</th>\n",
       "      <th>temperature1</th>\n",
       "      <th>temperature2</th>\n",
       "      <th>treeId</th>\n",
       "      <th>weather</th>\n",
       "    </tr>\n",
       "  </thead>\n",
       "  <tbody>\n",
       "    <tr>\n",
       "      <th>0</th>\n",
       "      <td>5.999457</td>\n",
       "      <td>5.963408</td>\n",
       "      <td>NaN</td>\n",
       "      <td>NaN</td>\n",
       "      <td>NaN</td>\n",
       "      <td>{'minimumHumidity': 80, 'maximumHumidity': 85,...</td>\n",
       "      <td>0.2</td>\n",
       "      <td>840.0</td>\n",
       "      <td>840.0</td>\n",
       "      <td>43.0</td>\n",
       "      <td>43.0</td>\n",
       "      <td>1570439258000-ct_berlin_1-d6</td>\n",
       "      <td>d6</td>\n",
       "      <td>1570439258000</td>\n",
       "      <td>{'areFansEnabled': True, 'isWateringEnabled': ...</td>\n",
       "      <td>16.4</td>\n",
       "      <td>16.3</td>\n",
       "      <td>ct_berlin_1</td>\n",
       "      <td>NaN</td>\n",
       "    </tr>\n",
       "    <tr>\n",
       "      <th>1</th>\n",
       "      <td>6.018530</td>\n",
       "      <td>6.018530</td>\n",
       "      <td>NaN</td>\n",
       "      <td>NaN</td>\n",
       "      <td>NaN</td>\n",
       "      <td>{'minimumHumidity': 80, 'maximumHumidity': 85,...</td>\n",
       "      <td>1.3</td>\n",
       "      <td>840.0</td>\n",
       "      <td>480.0</td>\n",
       "      <td>45.0</td>\n",
       "      <td>45.0</td>\n",
       "      <td>1570439258000-ct_berlin_1-d3</td>\n",
       "      <td>d3</td>\n",
       "      <td>1570439258000</td>\n",
       "      <td>{'areFansEnabled': False, 'isWateringEnabled':...</td>\n",
       "      <td>15.7</td>\n",
       "      <td>15.7</td>\n",
       "      <td>ct_berlin_1</td>\n",
       "      <td>NaN</td>\n",
       "    </tr>\n",
       "    <tr>\n",
       "      <th>2</th>\n",
       "      <td>5.895329</td>\n",
       "      <td>6.138979</td>\n",
       "      <td>NaN</td>\n",
       "      <td>NaN</td>\n",
       "      <td>NaN</td>\n",
       "      <td>{'minimumHumidity': 80, 'maximumHumidity': 85,...</td>\n",
       "      <td>0.9</td>\n",
       "      <td>840.0</td>\n",
       "      <td>840.0</td>\n",
       "      <td>42.0</td>\n",
       "      <td>44.0</td>\n",
       "      <td>1570439258000-ct_berlin_1-d5</td>\n",
       "      <td>d5</td>\n",
       "      <td>1570439258000</td>\n",
       "      <td>{'areFansEnabled': True, 'isWateringEnabled': ...</td>\n",
       "      <td>16.5</td>\n",
       "      <td>16.4</td>\n",
       "      <td>ct_berlin_1</td>\n",
       "      <td>NaN</td>\n",
       "    </tr>\n",
       "    <tr>\n",
       "      <th>3</th>\n",
       "      <td>5.849228</td>\n",
       "      <td>5.708862</td>\n",
       "      <td>NaN</td>\n",
       "      <td>NaN</td>\n",
       "      <td>NaN</td>\n",
       "      <td>{'minimumHumidity': 80, 'maximumHumidity': 85,...</td>\n",
       "      <td>1.2</td>\n",
       "      <td>840.0</td>\n",
       "      <td>840.0</td>\n",
       "      <td>44.0</td>\n",
       "      <td>44.0</td>\n",
       "      <td>1570439258000-ct_berlin_1-d4</td>\n",
       "      <td>d4</td>\n",
       "      <td>1570439258000</td>\n",
       "      <td>{'areFansEnabled': True, 'isWateringEnabled': ...</td>\n",
       "      <td>15.6</td>\n",
       "      <td>15.2</td>\n",
       "      <td>ct_berlin_1</td>\n",
       "      <td>NaN</td>\n",
       "    </tr>\n",
       "    <tr>\n",
       "      <th>4</th>\n",
       "      <td>10.757431</td>\n",
       "      <td>11.806965</td>\n",
       "      <td>NaN</td>\n",
       "      <td>NaN</td>\n",
       "      <td>NaN</td>\n",
       "      <td>{'minimumHumidity': 80, 'maximumHumidity': 85,...</td>\n",
       "      <td>0.0</td>\n",
       "      <td>0.0</td>\n",
       "      <td>0.0</td>\n",
       "      <td>86.0</td>\n",
       "      <td>91.0</td>\n",
       "      <td>1570545523000-ct_berlin_1-d5</td>\n",
       "      <td>d5</td>\n",
       "      <td>1570545523000</td>\n",
       "      <td>{'areFansEnabled': False, 'isWateringEnabled':...</td>\n",
       "      <td>14.6</td>\n",
       "      <td>15.2</td>\n",
       "      <td>ct_berlin_1</td>\n",
       "      <td>NaN</td>\n",
       "    </tr>\n",
       "  </tbody>\n",
       "</table>\n",
       "</div>"
      ],
      "text/plain": [
       "   absoluteHumidity1  absoluteHumidity2 aggregated  air  \\\n",
       "0           5.999457           5.963408        NaN  NaN   \n",
       "1           6.018530           6.018530        NaN  NaN   \n",
       "2           5.895329           6.138979        NaN  NaN   \n",
       "3           5.849228           5.708862        NaN  NaN   \n",
       "4          10.757431          11.806965        NaN  NaN   \n",
       "\n",
       "  airQualityIndexPollutants  \\\n",
       "0                       NaN   \n",
       "1                       NaN   \n",
       "2                       NaN   \n",
       "3                       NaN   \n",
       "4                       NaN   \n",
       "\n",
       "                               currentActuatorConfig  \\\n",
       "0  {'minimumHumidity': 80, 'maximumHumidity': 85,...   \n",
       "1  {'minimumHumidity': 80, 'maximumHumidity': 85,...   \n",
       "2  {'minimumHumidity': 80, 'maximumHumidity': 85,...   \n",
       "3  {'minimumHumidity': 80, 'maximumHumidity': 85,...   \n",
       "4  {'minimumHumidity': 80, 'maximumHumidity': 85,...   \n",
       "\n",
       "   differentialPressurePascal  fan1Rpm  fan2Rpm  humidity1  humidity2  \\\n",
       "0                         0.2    840.0    840.0       43.0       43.0   \n",
       "1                         1.3    840.0    480.0       45.0       45.0   \n",
       "2                         0.9    840.0    840.0       42.0       44.0   \n",
       "3                         1.2    840.0    840.0       44.0       44.0   \n",
       "4                         0.0      0.0      0.0       86.0       91.0   \n",
       "\n",
       "                             id moduleId  receivedTimestamp  \\\n",
       "0  1570439258000-ct_berlin_1-d6       d6      1570439258000   \n",
       "1  1570439258000-ct_berlin_1-d3       d3      1570439258000   \n",
       "2  1570439258000-ct_berlin_1-d5       d5      1570439258000   \n",
       "3  1570439258000-ct_berlin_1-d4       d4      1570439258000   \n",
       "4  1570545523000-ct_berlin_1-d5       d5      1570545523000   \n",
       "\n",
       "                                               state  temperature1  \\\n",
       "0  {'areFansEnabled': True, 'isWateringEnabled': ...          16.4   \n",
       "1  {'areFansEnabled': False, 'isWateringEnabled':...          15.7   \n",
       "2  {'areFansEnabled': True, 'isWateringEnabled': ...          16.5   \n",
       "3  {'areFansEnabled': True, 'isWateringEnabled': ...          15.6   \n",
       "4  {'areFansEnabled': False, 'isWateringEnabled':...          14.6   \n",
       "\n",
       "   temperature2       treeId weather  \n",
       "0          16.3  ct_berlin_1     NaN  \n",
       "1          15.7  ct_berlin_1     NaN  \n",
       "2          16.4  ct_berlin_1     NaN  \n",
       "3          15.2  ct_berlin_1     NaN  \n",
       "4          15.2  ct_berlin_1     NaN  "
      ]
     },
     "execution_count": 5,
     "metadata": {},
     "output_type": "execute_result"
    }
   ],
   "source": [
    "df.head()"
   ]
  },
  {
   "cell_type": "markdown",
   "metadata": {
    "colab_type": "text",
    "id": "3hjc0KZbfYNR"
   },
   "source": [
    "# Missing value ratio"
   ]
  },
  {
   "cell_type": "code",
   "execution_count": 4,
   "metadata": {
    "colab": {
     "base_uri": "https://localhost:8080/",
     "height": 343
    },
    "colab_type": "code",
    "id": "Q0ektN_2ewM9",
    "outputId": "17f85979-3d9c-47d6-a3f8-6ab98213fa51"
   },
   "outputs": [
    {
     "data": {
      "text/html": [
       "<div>\n",
       "<style scoped>\n",
       "    .dataframe tbody tr th:only-of-type {\n",
       "        vertical-align: middle;\n",
       "    }\n",
       "\n",
       "    .dataframe tbody tr th {\n",
       "        vertical-align: top;\n",
       "    }\n",
       "\n",
       "    .dataframe thead th {\n",
       "        text-align: right;\n",
       "    }\n",
       "</style>\n",
       "<table border=\"1\" class=\"dataframe\">\n",
       "  <thead>\n",
       "    <tr style=\"text-align: right;\">\n",
       "      <th></th>\n",
       "      <th>Missing Ratio</th>\n",
       "    </tr>\n",
       "  </thead>\n",
       "  <tbody>\n",
       "    <tr>\n",
       "      <th>airQualityIndexPollutants</th>\n",
       "      <td>86.942824</td>\n",
       "    </tr>\n",
       "    <tr>\n",
       "      <th>aggregated</th>\n",
       "      <td>76.857110</td>\n",
       "    </tr>\n",
       "    <tr>\n",
       "      <th>weather</th>\n",
       "      <td>50.717054</td>\n",
       "    </tr>\n",
       "    <tr>\n",
       "      <th>temperature2</th>\n",
       "      <td>27.230105</td>\n",
       "    </tr>\n",
       "    <tr>\n",
       "      <th>temperature1</th>\n",
       "      <td>27.230105</td>\n",
       "    </tr>\n",
       "    <tr>\n",
       "      <th>state</th>\n",
       "      <td>27.230105</td>\n",
       "    </tr>\n",
       "    <tr>\n",
       "      <th>humidity2</th>\n",
       "      <td>27.230105</td>\n",
       "    </tr>\n",
       "    <tr>\n",
       "      <th>humidity1</th>\n",
       "      <td>27.230105</td>\n",
       "    </tr>\n",
       "    <tr>\n",
       "      <th>fan2Rpm</th>\n",
       "      <td>27.230105</td>\n",
       "    </tr>\n",
       "    <tr>\n",
       "      <th>fan1Rpm</th>\n",
       "      <td>27.230105</td>\n",
       "    </tr>\n",
       "  </tbody>\n",
       "</table>\n",
       "</div>"
      ],
      "text/plain": [
       "                           Missing Ratio\n",
       "airQualityIndexPollutants      86.942824\n",
       "aggregated                     76.857110\n",
       "weather                        50.717054\n",
       "temperature2                   27.230105\n",
       "temperature1                   27.230105\n",
       "state                          27.230105\n",
       "humidity2                      27.230105\n",
       "humidity1                      27.230105\n",
       "fan2Rpm                        27.230105\n",
       "fan1Rpm                        27.230105"
      ]
     },
     "execution_count": 4,
     "metadata": {},
     "output_type": "execute_result"
    }
   ],
   "source": [
    "all_data_na = (df.isnull().sum() / len(df)) * 100\n",
    "all_data_na = all_data_na.drop(all_data_na[all_data_na == 0].index).sort_values(ascending=False)[:30]\n",
    "missing_data = pd.DataFrame({'Missing Ratio' :all_data_na})\n",
    "missing_data.head(10) "
   ]
  },
  {
   "cell_type": "markdown",
   "metadata": {
    "colab_type": "text",
    "id": "Dgy1f9-UgNtR"
   },
   "source": [
    "# Delete some fileds"
   ]
  },
  {
   "cell_type": "code",
   "execution_count": 5,
   "metadata": {
    "colab": {},
    "colab_type": "code",
    "id": "aSyACOhhfdXY"
   },
   "outputs": [],
   "source": [
    "df=df.drop(\"airQualityIndexPollutants\",axis=1)\n",
    "df=df.drop(\"air\",axis=1)\n",
    "df=df.drop('aggregated'\t,axis=1)\n",
    "df=df.drop('weather'\t,axis=1)"
   ]
  },
  {
   "cell_type": "markdown",
   "metadata": {
    "colab_type": "text",
    "id": "jF61VPVTgUUG"
   },
   "source": [
    "# Fill missing data by mean values in target features"
   ]
  },
  {
   "cell_type": "code",
   "execution_count": 6,
   "metadata": {
    "colab": {},
    "colab_type": "code",
    "id": "XGhus3GzelbO"
   },
   "outputs": [],
   "source": [
    "df['receivedTimestamp'].fillna((df['receivedTimestamp'].mean()), inplace=True)\n",
    "df['fan2Rpm'].fillna((df['fan2Rpm'].mean()), inplace=True)\n",
    "df['fan1Rpm'].fillna((df['fan1Rpm'].mean()), inplace=True)\n",
    "df['differentialPressurePascal'].fillna((df['differentialPressurePascal'].mean()), inplace=True)\n",
    "df['absoluteHumidity2'].fillna((df['absoluteHumidity2'].mean()), inplace=True)\n",
    "df['absoluteHumidity1'].fillna((df['absoluteHumidity1'].mean()), inplace=True)\n",
    "\n",
    "df['humidity2'].fillna((df['humidity2'].mean()), inplace=True)\n",
    "df['humidity1'].fillna((df['humidity1'].mean()), inplace=True)\n",
    "df['temperature2'].fillna((df['temperature2'].mean()), inplace=True)\n",
    "df['temperature1'].fillna((df['temperature1'].mean()), inplace=True)\n"
   ]
  },
  {
   "cell_type": "code",
   "execution_count": 7,
   "metadata": {
    "colab": {
     "base_uri": "https://localhost:8080/",
     "height": 136
    },
    "colab_type": "code",
    "id": "EtW0jPysg2z6",
    "outputId": "abb36acb-9196-495a-a03e-5fe404535345"
   },
   "outputs": [
    {
     "data": {
      "text/html": [
       "<div>\n",
       "<style scoped>\n",
       "    .dataframe tbody tr th:only-of-type {\n",
       "        vertical-align: middle;\n",
       "    }\n",
       "\n",
       "    .dataframe tbody tr th {\n",
       "        vertical-align: top;\n",
       "    }\n",
       "\n",
       "    .dataframe thead th {\n",
       "        text-align: right;\n",
       "    }\n",
       "</style>\n",
       "<table border=\"1\" class=\"dataframe\">\n",
       "  <thead>\n",
       "    <tr style=\"text-align: right;\">\n",
       "      <th></th>\n",
       "      <th>Missing Ratio</th>\n",
       "    </tr>\n",
       "  </thead>\n",
       "  <tbody>\n",
       "    <tr>\n",
       "      <th>state</th>\n",
       "      <td>27.230105</td>\n",
       "    </tr>\n",
       "    <tr>\n",
       "      <th>currentActuatorConfig</th>\n",
       "      <td>27.230105</td>\n",
       "    </tr>\n",
       "    <tr>\n",
       "      <th>moduleId</th>\n",
       "      <td>24.574844</td>\n",
       "    </tr>\n",
       "  </tbody>\n",
       "</table>\n",
       "</div>"
      ],
      "text/plain": [
       "                       Missing Ratio\n",
       "state                      27.230105\n",
       "currentActuatorConfig      27.230105\n",
       "moduleId                   24.574844"
      ]
     },
     "execution_count": 7,
     "metadata": {},
     "output_type": "execute_result"
    }
   ],
   "source": [
    "all_data_na = (df.isnull().sum() / len(df)) * 100\n",
    "all_data_na = all_data_na.drop(all_data_na[all_data_na == 0].index).sort_values(ascending=False)[:30]\n",
    "missing_data = pd.DataFrame({'Missing Ratio' :all_data_na})\n",
    "missing_data.head(11) "
   ]
  },
  {
   "cell_type": "markdown",
   "metadata": {
    "colab_type": "text",
    "id": "xgP3xLbLeF6x"
   },
   "source": [
    "# Preparing the data & data split"
   ]
  },
  {
   "cell_type": "code",
   "execution_count": 8,
   "metadata": {
    "colab": {
     "base_uri": "https://localhost:8080/",
     "height": 101
    },
    "colab_type": "code",
    "id": "JKNCn6Kskqoq",
    "outputId": "e9e8be0e-6a27-4de0-9c3c-759bd8338207"
   },
   "outputs": [
    {
     "data": {
      "text/plain": [
       "Index(['absoluteHumidity1', 'absoluteHumidity2', 'currentActuatorConfig',\n",
       "       'differentialPressurePascal', 'fan1Rpm', 'fan2Rpm', 'humidity1',\n",
       "       'humidity2', 'id', 'moduleId', 'receivedTimestamp', 'state',\n",
       "       'temperature1', 'temperature2', 'treeId'],\n",
       "      dtype='object')"
      ]
     },
     "execution_count": 8,
     "metadata": {},
     "output_type": "execute_result"
    }
   ],
   "source": [
    "df.keys()"
   ]
  },
  {
   "cell_type": "code",
   "execution_count": 9,
   "metadata": {
    "colab": {},
    "colab_type": "code",
    "id": "BcK2OPwGeIye"
   },
   "outputs": [],
   "source": [
    "col=['receivedTimestamp', 'temperature1',\n",
    "       'temperature2', 'humidity1', 'humidity2', 'absoluteHumidity1',\n",
    "       'absoluteHumidity2', 'differentialPressurePascal', 'fan1Rpm', 'fan2Rpm']\n",
    "\n",
    "col2=['temperature1','temperature2',  'absoluteHumidity1',\n",
    "       'absoluteHumidity2', 'differentialPressurePascal','fan1Rpm', 'fan2Rpm']\n",
    "\n",
    "probs = np.random.rand(len(df))\n",
    "training_mask = probs < 0.8\n",
    "test_mask = (probs >= 0.80)\n",
    "\n",
    "x_train_feat=df[col][training_mask]\n",
    "x_test_feat=df[col][test_mask]\n",
    "y_train_feat=df[col2][training_mask]\n",
    "y_test_feat =df[col2][test_mask]\n",
    "\n",
    "sc = StandardScaler()\n",
    "x_train_feat = sc.fit_transform(x_train_feat)\n",
    "x_test_feat = sc.transform(x_test_feat)\n",
    "y_train_feat = sc.fit_transform(y_train_feat)\n",
    "y_test_feat = sc.transform(y_test_feat)"
   ]
  },
  {
   "cell_type": "code",
   "execution_count": 10,
   "metadata": {
    "colab": {},
    "colab_type": "code",
    "id": "uboMBxsEmO__"
   },
   "outputs": [],
   "source": [
    "x_train_feat = x_train_feat.reshape((x_train_feat.shape[0], 1, 10))\n",
    "x_test_feat = x_test_feat.reshape((x_test_feat.shape[0], 1, 10))"
   ]
  },
  {
   "cell_type": "code",
   "execution_count": 11,
   "metadata": {
    "colab": {
     "base_uri": "https://localhost:8080/",
     "height": 454
    },
    "colab_type": "code",
    "id": "dk3HQpVgoV2b",
    "outputId": "3ce71d03-a7a7-4378-bf99-af07ddb3c2fa"
   },
   "outputs": [
    {
     "name": "stdout",
     "output_type": "stream",
     "text": [
      "_________________________________________________________________\n",
      "Layer (type)                 Output Shape              Param #   \n",
      "=================================================================\n",
      "lstm_1 (LSTM)                (None, 1, 15)             1560      \n",
      "_________________________________________________________________\n",
      "lstm_2 (LSTM)                (None, 1, 15)             1860      \n",
      "_________________________________________________________________\n",
      "lstm_3 (LSTM)                (None, 1, 15)             1860      \n",
      "_________________________________________________________________\n",
      "lstm_4 (LSTM)                (None, 1, 15)             1860      \n",
      "_________________________________________________________________\n",
      "flatten_1 (Flatten)          (None, 15)                0         \n",
      "_________________________________________________________________\n",
      "dense_1 (Dense)              (None, 20)                320       \n",
      "_________________________________________________________________\n",
      "activation_1 (Activation)    (None, 20)                0         \n",
      "_________________________________________________________________\n",
      "dropout_1 (Dropout)          (None, 20)                0         \n",
      "_________________________________________________________________\n",
      "dense_2 (Dense)              (None, 7)                 147       \n",
      "=================================================================\n",
      "Total params: 7,607\n",
      "Trainable params: 7,607\n",
      "Non-trainable params: 0\n",
      "_________________________________________________________________\n"
     ]
    }
   ],
   "source": [
    "model = Sequential()\n",
    "model.add(LSTM(15,return_sequences=True ,input_shape=(1, 10)))\n",
    "model.add(LSTM(15,return_sequences=True,dropout=0.50 ))\n",
    "model.add(LSTM(15,return_sequences=True,dropout=0.50 ))\n",
    "model.add(LSTM(15,return_sequences=True,dropout=0.50 ))\n",
    "model.add(Flatten())\n",
    "\n",
    "model.add(Dense(units = 20))\n",
    "model.add(Activation('tanh'))\n",
    "model.add(Dropout(0.50))\n",
    "model.add(Dense(7))"
   ]
  },
  {
   "cell_type": "code",
   "execution_count": null,
   "metadata": {},
   "outputs": [],
   "source": [
    "model.compile(loss=\"mse\", optimizer=\"adam\")"
   ]
  },
  {
   "cell_type": "code",
   "execution_count": null,
   "metadata": {},
   "outputs": [],
   "source": [
    "model.summary()"
   ]
  },
  {
   "cell_type": "code",
   "execution_count": 12,
   "metadata": {
    "colab": {
     "base_uri": "https://localhost:8080/",
     "height": 1000
    },
    "colab_type": "code",
    "id": "e8QcGX9-oiFj",
    "outputId": "04fd7d51-8ad5-4729-8e2c-cda3061fb61f"
   },
   "outputs": [
    {
     "name": "stdout",
     "output_type": "stream",
     "text": [
      "Train on 556346 samples, validate on 140045 samples\n",
      "Epoch 1/100\n",
      "556346/556346 [==============================] - 17s 31us/step - loss: 0.5680 - val_loss: 0.1869\n",
      "Epoch 2/100\n",
      "556346/556346 [==============================] - 11s 20us/step - loss: 0.2997 - val_loss: 0.1578\n",
      "Epoch 3/100\n",
      "556346/556346 [==============================] - 11s 20us/step - loss: 0.2735 - val_loss: 0.1443\n",
      "Epoch 4/100\n",
      "556346/556346 [==============================] - 11s 20us/step - loss: 0.2597 - val_loss: 0.1350\n",
      "Epoch 5/100\n",
      "556346/556346 [==============================] - 11s 20us/step - loss: 0.2505 - val_loss: 0.1302\n",
      "Epoch 6/100\n",
      "556346/556346 [==============================] - 11s 20us/step - loss: 0.2442 - val_loss: 0.1257\n",
      "Epoch 7/100\n",
      "556346/556346 [==============================] - 11s 20us/step - loss: 0.2397 - val_loss: 0.1226\n",
      "Epoch 8/100\n",
      "556346/556346 [==============================] - 11s 20us/step - loss: 0.2353 - val_loss: 0.1201\n",
      "Epoch 9/100\n",
      "556346/556346 [==============================] - 11s 20us/step - loss: 0.2320 - val_loss: 0.1182\n",
      "Epoch 10/100\n",
      "556346/556346 [==============================] - 11s 20us/step - loss: 0.2300 - val_loss: 0.1174\n",
      "Epoch 11/100\n",
      "556346/556346 [==============================] - 11s 20us/step - loss: 0.2292 - val_loss: 0.1153\n",
      "Epoch 12/100\n",
      "556346/556346 [==============================] - 11s 20us/step - loss: 0.2271 - val_loss: 0.1155\n",
      "Epoch 13/100\n",
      "556346/556346 [==============================] - 11s 20us/step - loss: 0.2259 - val_loss: 0.1116\n",
      "Epoch 14/100\n",
      "556346/556346 [==============================] - 11s 20us/step - loss: 0.2233 - val_loss: 0.1042\n",
      "Epoch 15/100\n",
      "556346/556346 [==============================] - 11s 20us/step - loss: 0.2202 - val_loss: 0.1041\n",
      "Epoch 16/100\n",
      "556346/556346 [==============================] - 11s 20us/step - loss: 0.2188 - val_loss: 0.1036\n",
      "Epoch 17/100\n",
      "556346/556346 [==============================] - 11s 20us/step - loss: 0.2173 - val_loss: 0.1029\n",
      "Epoch 18/100\n",
      "556346/556346 [==============================] - 11s 20us/step - loss: 0.2156 - val_loss: 0.0998\n",
      "Epoch 19/100\n",
      "556346/556346 [==============================] - 11s 20us/step - loss: 0.2147 - val_loss: 0.0999\n",
      "Epoch 20/100\n",
      "556346/556346 [==============================] - 11s 20us/step - loss: 0.2138 - val_loss: 0.0994\n",
      "Epoch 21/100\n",
      "556346/556346 [==============================] - 11s 20us/step - loss: 0.2130 - val_loss: 0.0983\n",
      "Epoch 22/100\n",
      "556346/556346 [==============================] - 11s 20us/step - loss: 0.2118 - val_loss: 0.1000\n",
      "Epoch 23/100\n",
      "556346/556346 [==============================] - 11s 20us/step - loss: 0.2115 - val_loss: 0.0958\n",
      "Epoch 24/100\n",
      "556346/556346 [==============================] - 11s 20us/step - loss: 0.2110 - val_loss: 0.0977\n",
      "Epoch 25/100\n",
      "556346/556346 [==============================] - 11s 20us/step - loss: 0.2106 - val_loss: 0.0964\n",
      "Epoch 26/100\n",
      "556346/556346 [==============================] - 11s 20us/step - loss: 0.2098 - val_loss: 0.0969\n",
      "Epoch 27/100\n",
      "556346/556346 [==============================] - 11s 20us/step - loss: 0.2110 - val_loss: 0.0968\n",
      "Epoch 28/100\n",
      "556346/556346 [==============================] - 11s 20us/step - loss: 0.2099 - val_loss: 0.0954\n",
      "Epoch 29/100\n",
      "556346/556346 [==============================] - 11s 20us/step - loss: 0.2094 - val_loss: 0.0956\n",
      "Epoch 30/100\n",
      "556346/556346 [==============================] - 11s 20us/step - loss: 0.2083 - val_loss: 0.0982\n",
      "Epoch 31/100\n",
      "556346/556346 [==============================] - 11s 20us/step - loss: 0.2080 - val_loss: 0.0956\n",
      "Epoch 32/100\n",
      "556346/556346 [==============================] - 11s 20us/step - loss: 0.2080 - val_loss: 0.0969\n",
      "Epoch 33/100\n",
      "556346/556346 [==============================] - 11s 20us/step - loss: 0.2081 - val_loss: 0.1009\n",
      "Epoch 34/100\n",
      "556346/556346 [==============================] - 12s 21us/step - loss: 0.2090 - val_loss: 0.0986\n",
      "Epoch 35/100\n",
      "556346/556346 [==============================] - 11s 20us/step - loss: 0.2081 - val_loss: 0.0963\n",
      "Epoch 36/100\n",
      "556346/556346 [==============================] - 11s 20us/step - loss: 0.2069 - val_loss: 0.0949\n",
      "Epoch 37/100\n",
      "556346/556346 [==============================] - 11s 20us/step - loss: 0.2064 - val_loss: 0.0955\n",
      "Epoch 38/100\n",
      "556346/556346 [==============================] - 11s 20us/step - loss: 0.2060 - val_loss: 0.0968\n",
      "Epoch 39/100\n",
      "556346/556346 [==============================] - 11s 20us/step - loss: 0.2067 - val_loss: 0.1008\n",
      "Epoch 40/100\n",
      "556346/556346 [==============================] - 11s 20us/step - loss: 0.2068 - val_loss: 0.0952\n",
      "Epoch 41/100\n",
      "556346/556346 [==============================] - 11s 20us/step - loss: 0.2056 - val_loss: 0.0957\n",
      "Epoch 42/100\n",
      "556346/556346 [==============================] - 11s 20us/step - loss: 0.2054 - val_loss: 0.0938\n",
      "Epoch 43/100\n",
      "556346/556346 [==============================] - 11s 20us/step - loss: 0.2053 - val_loss: 0.0940\n",
      "Epoch 44/100\n",
      "556346/556346 [==============================] - 11s 20us/step - loss: 0.2053 - val_loss: 0.0962\n",
      "Epoch 45/100\n",
      "556346/556346 [==============================] - 11s 20us/step - loss: 0.2047 - val_loss: 0.0934\n",
      "Epoch 46/100\n",
      "556346/556346 [==============================] - 11s 20us/step - loss: 0.2053 - val_loss: 0.0956\n",
      "Epoch 47/100\n",
      "556346/556346 [==============================] - 11s 20us/step - loss: 0.2050 - val_loss: 0.0926\n",
      "Epoch 48/100\n",
      "556346/556346 [==============================] - 11s 20us/step - loss: 0.2042 - val_loss: 0.0968\n",
      "Epoch 49/100\n",
      "556346/556346 [==============================] - 11s 20us/step - loss: 0.2055 - val_loss: 0.0945\n",
      "Epoch 50/100\n",
      "556346/556346 [==============================] - 11s 20us/step - loss: 0.2047 - val_loss: 0.0941\n",
      "Epoch 51/100\n",
      "556346/556346 [==============================] - 11s 20us/step - loss: 0.2043 - val_loss: 0.0949\n",
      "Epoch 52/100\n",
      "556346/556346 [==============================] - 11s 20us/step - loss: 0.2042 - val_loss: 0.0943\n",
      "Epoch 53/100\n",
      "556346/556346 [==============================] - 11s 20us/step - loss: 0.2037 - val_loss: 0.0940\n",
      "Epoch 54/100\n",
      "556346/556346 [==============================] - 11s 20us/step - loss: 0.2036 - val_loss: 0.0934\n",
      "Epoch 55/100\n",
      "556346/556346 [==============================] - 11s 20us/step - loss: 0.2036 - val_loss: 0.0929\n",
      "Epoch 56/100\n",
      "556346/556346 [==============================] - 11s 20us/step - loss: 0.2030 - val_loss: 0.0927\n",
      "Epoch 57/100\n",
      "556346/556346 [==============================] - 11s 20us/step - loss: 0.2030 - val_loss: 0.0937\n",
      "Epoch 58/100\n",
      "556346/556346 [==============================] - 11s 20us/step - loss: 0.2031 - val_loss: 0.0940\n",
      "Epoch 59/100\n",
      "556346/556346 [==============================] - 11s 21us/step - loss: 0.2033 - val_loss: 0.0919\n",
      "Epoch 60/100\n",
      "556346/556346 [==============================] - 11s 20us/step - loss: 0.2033 - val_loss: 0.0922 ETA: 0s - loss: \n",
      "Epoch 61/100\n",
      "556346/556346 [==============================] - 11s 20us/step - loss: 0.2025 - val_loss: 0.0920\n",
      "Epoch 62/100\n",
      "556346/556346 [==============================] - 11s 21us/step - loss: 0.2032 - val_loss: 0.0924\n",
      "Epoch 63/100\n",
      "556346/556346 [==============================] - 11s 20us/step - loss: 0.2028 - val_loss: 0.0916\n",
      "Epoch 64/100\n",
      "556346/556346 [==============================] - 11s 20us/step - loss: 0.2025 - val_loss: 0.0916\n",
      "Epoch 65/100\n",
      "556346/556346 [==============================] - 11s 20us/step - loss: 0.2024 - val_loss: 0.0952\n",
      "Epoch 66/100\n",
      "556346/556346 [==============================] - 11s 20us/step - loss: 0.2028 - val_loss: 0.0919\n",
      "Epoch 67/100\n",
      "556346/556346 [==============================] - 11s 20us/step - loss: 0.2028 - val_loss: 0.0928\n",
      "Epoch 68/100\n",
      "556346/556346 [==============================] - 11s 20us/step - loss: 0.2017 - val_loss: 0.0922\n",
      "Epoch 69/100\n",
      "556346/556346 [==============================] - 11s 20us/step - loss: 0.2018 - val_loss: 0.0908\n",
      "Epoch 70/100\n",
      "556346/556346 [==============================] - 11s 20us/step - loss: 0.2012 - val_loss: 0.0948\n",
      "Epoch 71/100\n",
      "556346/556346 [==============================] - 11s 20us/step - loss: 0.2014 - val_loss: 0.0942\n",
      "Epoch 72/100\n",
      "556346/556346 [==============================] - 11s 20us/step - loss: 0.2015 - val_loss: 0.0912\n",
      "Epoch 73/100\n",
      "556346/556346 [==============================] - 11s 20us/step - loss: 0.2014 - val_loss: 0.0905\n",
      "Epoch 74/100\n",
      "556346/556346 [==============================] - 12s 21us/step - loss: 0.2013 - val_loss: 0.0918\n",
      "Epoch 75/100\n",
      "556346/556346 [==============================] - 11s 20us/step - loss: 0.2018 - val_loss: 0.0938\n",
      "Epoch 76/100\n",
      "556346/556346 [==============================] - 11s 19us/step - loss: 0.2016 - val_loss: 0.0914\n",
      "Epoch 77/100\n",
      "556346/556346 [==============================] - 11s 19us/step - loss: 0.2007 - val_loss: 0.0917\n",
      "Epoch 78/100\n",
      "556346/556346 [==============================] - 11s 19us/step - loss: 0.2007 - val_loss: 0.0898\n",
      "Epoch 79/100\n",
      "556346/556346 [==============================] - 11s 19us/step - loss: 0.2010 - val_loss: 0.0939\n",
      "Epoch 80/100\n",
      "556346/556346 [==============================] - 11s 19us/step - loss: 0.2009 - val_loss: 0.0911\n",
      "Epoch 81/100\n",
      "556346/556346 [==============================] - 11s 19us/step - loss: 0.2003 - val_loss: 0.0900\n",
      "Epoch 82/100\n",
      "556346/556346 [==============================] - 11s 20us/step - loss: 0.2002 - val_loss: 0.0908\n",
      "Epoch 83/100\n",
      "556346/556346 [==============================] - 11s 20us/step - loss: 0.2000 - val_loss: 0.0912\n",
      "Epoch 84/100\n",
      "556346/556346 [==============================] - 11s 20us/step - loss: 0.2002 - val_loss: 0.0902\n",
      "Epoch 85/100\n",
      "556346/556346 [==============================] - 11s 20us/step - loss: 0.2000 - val_loss: 0.0891\n",
      "Epoch 86/100\n",
      "556346/556346 [==============================] - 11s 20us/step - loss: 0.2000 - val_loss: 0.0904\n",
      "Epoch 87/100\n",
      "556346/556346 [==============================] - 11s 20us/step - loss: 0.1999 - val_loss: 0.0888\n",
      "Epoch 88/100\n",
      "556346/556346 [==============================] - 12s 21us/step - loss: 0.2007 - val_loss: 0.0907\n",
      "Epoch 89/100\n",
      "556346/556346 [==============================] - 12s 21us/step - loss: 0.2000 - val_loss: 0.0901\n",
      "Epoch 90/100\n",
      "556346/556346 [==============================] - 11s 20us/step - loss: 0.2000 - val_loss: 0.0898\n",
      "Epoch 91/100\n",
      "556346/556346 [==============================] - 11s 20us/step - loss: 0.1996 - val_loss: 0.0898\n",
      "Epoch 92/100\n",
      "556346/556346 [==============================] - 11s 20us/step - loss: 0.1997 - val_loss: 0.0902\n",
      "Epoch 93/100\n",
      "556346/556346 [==============================] - 11s 20us/step - loss: 0.2004 - val_loss: 0.0885\n",
      "Epoch 94/100\n",
      "556346/556346 [==============================] - 11s 20us/step - loss: 0.2004 - val_loss: 0.0914\n",
      "Epoch 95/100\n",
      "556346/556346 [==============================] - 11s 20us/step - loss: 0.1991 - val_loss: 0.0920\n",
      "Epoch 96/100\n",
      "556346/556346 [==============================] - 12s 21us/step - loss: 0.1988 - val_loss: 0.0904\n",
      "Epoch 97/100\n",
      "556346/556346 [==============================] - 11s 19us/step - loss: 0.1991 - val_loss: 0.0879\n",
      "Epoch 98/100\n",
      "556346/556346 [==============================] - 11s 20us/step - loss: 0.1990 - val_loss: 0.0911\n",
      "Epoch 99/100\n",
      "556346/556346 [==============================] - 11s 19us/step - loss: 0.1991 - val_loss: 0.0909\n",
      "Epoch 100/100\n",
      "556346/556346 [==============================] - 11s 19us/step - loss: 0.1992 - val_loss: 0.0887\n"
     ]
    }
   ],
   "source": [
    "hist_text=model.fit([x_train_feat], \n",
    "                    y_train_feat,\n",
    "                    epochs=100,\n",
    "                    batch_size=16,\n",
    "                    validation_data=([x_test_feat],y_test_feat))"
   ]
  },
  {
   "cell_type": "code",
   "execution_count": 13,
   "metadata": {
    "colab": {
     "base_uri": "https://localhost:8080/",
     "height": 134
    },
    "colab_type": "code",
    "id": "j9RpRAQuopOW",
    "outputId": "0b48e7ae-29dc-4428-de60-5b37fc70f1dd"
   },
   "outputs": [
    {
     "name": "stdout",
     "output_type": "stream",
     "text": [
      "y1 MSE:0.1225\n",
      "y2 MSE:0.1135\n",
      "y3 MSE:0.1235\n",
      "y4 MSE:0.1027\n",
      "y5 MSE:0.0776\n",
      "y6 MSE:0.0382\n",
      "y7 MSE:0.0428\n"
     ]
    }
   ],
   "source": [
    "#x_test_feat ],y_test_feat\n",
    "ypred = model.predict(x_test_feat)\n",
    "print(\"y1 MSE:%.4f\" % mean_squared_error(y_test_feat[:,0], ypred[:,0]))\n",
    "print(\"y2 MSE:%.4f\" % mean_squared_error(y_test_feat[:,1], ypred[:,1]))\n",
    "print(\"y3 MSE:%.4f\" % mean_squared_error(y_test_feat[:,2], ypred[:,2]))\n",
    "print(\"y4 MSE:%.4f\" % mean_squared_error(y_test_feat[:,3], ypred[:,3]))\n",
    "print(\"y5 MSE:%.4f\" % mean_squared_error(y_test_feat[:,4], ypred[:,4]))\n",
    "print(\"y6 MSE:%.4f\" % mean_squared_error(y_test_feat[:,5], ypred[:,5]))\n",
    "print(\"y7 MSE:%.4f\" % mean_squared_error(y_test_feat[:,6], ypred[:,6]))\n"
   ]
  },
  {
   "cell_type": "code",
   "execution_count": 26,
   "metadata": {},
   "outputs": [],
   "source": [
    "def mean_absolute_percentage_error(y_true, y_pred):     \n",
    "    return np.mean(np.abs(y_true - y_pred) / y_true)"
   ]
  },
  {
   "cell_type": "code",
   "execution_count": 33,
   "metadata": {},
   "outputs": [
    {
     "name": "stdout",
     "output_type": "stream",
     "text": [
      "Error Measurement        y0      y1      y2      y3      y4      y5      y6\n",
      "-------------------  ------  ------  ------  ------  ------  ------  ------\n",
      "MSE                  0.1225  0.1135  0.1235  0.1027  0.0776  0.0382  0.0428\n",
      "MAE                  0.2057  0.2003  0.2149  0.198   0.1578  0.1312  0.1388\n"
     ]
    }
   ],
   "source": [
    "#x_test_feat ],y_test_feat\n",
    "ypred = model.predict(x_test_feat)\n",
    "headers = []\n",
    "headers.append(\"Error Measurement\")\n",
    "for i in range(7):\n",
    "    headers.append(\"y\" + str(i))\n",
    "\n",
    "table = []\n",
    "\n",
    "table.append([])\n",
    "table[-1].append(\"MSE\")\n",
    "table[-1].append(\"%.4f\" % mean_squared_error(y_test_feat[:,0], ypred[:,0]))\n",
    "table[-1].append(\"%.4f\" % mean_squared_error(y_test_feat[:,1], ypred[:,1]))\n",
    "table[-1].append(\"%.4f\" % mean_squared_error(y_test_feat[:,2], ypred[:,2]))\n",
    "table[-1].append(\"%.4f\" % mean_squared_error(y_test_feat[:,3], ypred[:,3]))\n",
    "table[-1].append(\"%.4f\" % mean_squared_error(y_test_feat[:,4], ypred[:,4]))\n",
    "table[-1].append(\"%.4f\" % mean_squared_error(y_test_feat[:,5], ypred[:,5]))\n",
    "table[-1].append(\"%.4f\" % mean_squared_error(y_test_feat[:,6], ypred[:,6]))\n",
    "\n",
    "table.append([])\n",
    "table[-1].append(\"MAE\")\n",
    "table[-1].append(\"%.4f\" % mean_absolute_error(y_test_feat[:,0], ypred[:,0]))\n",
    "table[-1].append(\"%.4f\" % mean_absolute_error(y_test_feat[:,1], ypred[:,1]))\n",
    "table[-1].append(\"%.4f\" % mean_absolute_error(y_test_feat[:,2], ypred[:,2]))\n",
    "table[-1].append(\"%.4f\" % mean_absolute_error(y_test_feat[:,3], ypred[:,3]))\n",
    "table[-1].append(\"%.4f\" % mean_absolute_error(y_test_feat[:,4], ypred[:,4]))\n",
    "table[-1].append(\"%.4f\" % mean_absolute_error(y_test_feat[:,5], ypred[:,5]))\n",
    "table[-1].append(\"%.4f\" % mean_absolute_error(y_test_feat[:,6], ypred[:,6]))\n",
    "\n",
    "# table.append([])\n",
    "# table[-1].append(\"MAPE\")\n",
    "# table[-1].append(\"%.4f\" % mean_absolute_percentage_error(y_test_feat[:,0], ypred[:,0]))\n",
    "# table[-1].append(\"%.4f\" % mean_absolute_percentage_error(y_test_feat[:,1], ypred[:,1]))\n",
    "# table[-1].append(\"%.4f\" % mean_absolute_percentage_error(y_test_feat[:,2], ypred[:,2]))\n",
    "# table[-1].append(\"%.4f\" % mean_absolute_percentage_error(y_test_feat[:,3], ypred[:,3]))\n",
    "# table[-1].append(\"%.4f\" % mean_absolute_percentage_error(y_test_feat[:,4], ypred[:,4]))\n",
    "# table[-1].append(\"%.4f\" % mean_absolute_percentage_error(y_test_feat[:,5], ypred[:,5]))\n",
    "# table[-1].append(\"%.4f\" % mean_absolute_percentage_error(y_test_feat[:,6], ypred[:,6]))\n",
    "\n",
    "print(tabulate(table, headers=headers))"
   ]
  },
  {
   "cell_type": "markdown",
   "metadata": {},
   "source": [
    "# Prediction of temperature1"
   ]
  },
  {
   "cell_type": "code",
   "execution_count": 14,
   "metadata": {},
   "outputs": [
    {
     "data": {
      "text/plain": [
       "[<matplotlib.lines.Line2D at 0xecdefb31d0>]"
      ]
     },
     "execution_count": 14,
     "metadata": {},
     "output_type": "execute_result"
    },
    {
     "data": {
      "image/png": "[encoded data removed]",
      "text/plain": [
       "<Figure size 432x288 with 1 Axes>"
      ]
     },
     "metadata": {
      "needs_background": "light"
     },
     "output_type": "display_data"
    }
   ],
   "source": [
    "plt.plot(y_test_feat[:,0])\n",
    "plt.plot(ypred[:,0])\n"
   ]
  },
  {
   "cell_type": "markdown",
   "metadata": {},
   "source": [
    "# Prediction of temperature2"
   ]
  },
  {
   "cell_type": "code",
   "execution_count": 15,
   "metadata": {
    "colab": {
     "base_uri": "https://localhost:8080/",
     "height": 282
    },
    "colab_type": "code",
    "id": "vA5pcMdE6YIK",
    "outputId": "18da2ec7-6d0c-415d-fa71-46bb910cdb91"
   },
   "outputs": [
    {
     "data": {
      "text/plain": [
       "[<matplotlib.lines.Line2D at 0xecdf032a58>]"
      ]
     },
     "execution_count": 15,
     "metadata": {},
     "output_type": "execute_result"
    },
    {
     "data": {
      "image/png": "[encoded data removed]",
      "text/plain": [
       "<Figure size 432x288 with 1 Axes>"
      ]
     },
     "metadata": {
      "needs_background": "light"
     },
     "output_type": "display_data"
    }
   ],
   "source": [
    "plt.plot(y_test_feat[:,1])\n",
    "plt.plot(ypred[:,1])\n"
   ]
  },
  {
   "cell_type": "markdown",
   "metadata": {},
   "source": [
    "# Prediction of absoluteHumidity1"
   ]
  },
  {
   "cell_type": "code",
   "execution_count": 16,
   "metadata": {
    "colab": {},
    "colab_type": "code",
    "id": "-MlxlN2QoTQD"
   },
   "outputs": [
    {
     "data": {
      "text/plain": [
       "[<matplotlib.lines.Line2D at 0xecdf07d438>]"
      ]
     },
     "execution_count": 16,
     "metadata": {},
     "output_type": "execute_result"
    },
    {
     "data": {
      "image/png": "[encoded data removed]",
      "text/plain": [
       "<Figure size 432x288 with 1 Axes>"
      ]
     },
     "metadata": {
      "needs_background": "light"
     },
     "output_type": "display_data"
    }
   ],
   "source": [
    "plt.plot(y_test_feat[:,2])\n",
    "plt.plot(ypred[:,2])"
   ]
  },
  {
   "cell_type": "markdown",
   "metadata": {},
   "source": [
    "# Prediction of absoluteHumidity2"
   ]
  },
  {
   "cell_type": "code",
   "execution_count": 17,
   "metadata": {
    "colab": {},
    "colab_type": "code",
    "id": "m5pZ4IBKmLuq"
   },
   "outputs": [
    {
     "data": {
      "text/plain": [
       "[<matplotlib.lines.Line2D at 0xecdf13eb00>]"
      ]
     },
     "execution_count": 17,
     "metadata": {},
     "output_type": "execute_result"
    },
    {
     "data": {
      "image/png": "[encoded data removed]",
      "text/plain": [
       "<Figure size 432x288 with 1 Axes>"
      ]
     },
     "metadata": {
      "needs_background": "light"
     },
     "output_type": "display_data"
    }
   ],
   "source": [
    "plt.plot(y_test_feat[:,3])\n",
    "plt.plot(ypred[:,3])\n"
   ]
  },
  {
   "cell_type": "markdown",
   "metadata": {},
   "source": [
    "# Prediction of differentialPressurePascal"
   ]
  },
  {
   "cell_type": "code",
   "execution_count": 18,
   "metadata": {
    "colab": {},
    "colab_type": "code",
    "id": "3d23vXo0l8Nb"
   },
   "outputs": [
    {
     "data": {
      "text/plain": [
       "[<matplotlib.lines.Line2D at 0xecdf1c8e48>]"
      ]
     },
     "execution_count": 18,
     "metadata": {},
     "output_type": "execute_result"
    },
    {
     "data": {
      "image/png": "[encoded data removed]",
      "text/plain": [
       "<Figure size 432x288 with 1 Axes>"
      ]
     },
     "metadata": {
      "needs_background": "light"
     },
     "output_type": "display_data"
    }
   ],
   "source": [
    "plt.plot(y_test_feat[:,4])\n",
    "plt.plot(ypred[:,4])\n"
   ]
  },
  {
   "cell_type": "markdown",
   "metadata": {},
   "source": [
    "# Prediction of fan1Rpm"
   ]
  },
  {
   "cell_type": "code",
   "execution_count": 19,
   "metadata": {},
   "outputs": [
    {
     "data": {
      "text/plain": [
       "[<matplotlib.lines.Line2D at 0xecdf253518>]"
      ]
     },
     "execution_count": 19,
     "metadata": {},
     "output_type": "execute_result"
    },
    {
     "data": {
      "image/png": "[encoded data removed]",
      "text/plain": [
       "<Figure size 432x288 with 1 Axes>"
      ]
     },
     "metadata": {
      "needs_background": "light"
     },
     "output_type": "display_data"
    }
   ],
   "source": [
    "plt.plot(y_test_feat[:,5])\n",
    "plt.plot(ypred[:,5])\n"
   ]
  },
  {
   "cell_type": "markdown",
   "metadata": {},
   "source": [
    "# Prediction of fan2Rpm"
   ]
  },
  {
   "cell_type": "code",
   "execution_count": 20,
   "metadata": {},
   "outputs": [
    {
     "data": {
      "text/plain": [
       "[<matplotlib.lines.Line2D at 0xecdf2e92e8>]"
      ]
     },
     "execution_count": 20,
     "metadata": {},
     "output_type": "execute_result"
    },
    {
     "data": {
      "image/png": "[encoded data removed]",
      "text/plain": [
       "<Figure size 432x288 with 1 Axes>"
      ]
     },
     "metadata": {
      "needs_background": "light"
     },
     "output_type": "display_data"
    }
   ],
   "source": [
    "plt.plot(y_test_feat[:,6])\n",
    "plt.plot(ypred[:,6])\n"
   ]
  },
  {
   "cell_type": "markdown",
   "metadata": {},
   "source": [
    "# Performance of loss plot on train & test"
   ]
  },
  {
   "cell_type": "code",
   "execution_count": 56,
   "metadata": {},
   "outputs": [
    {
     "data": {
      "image/png": "[encoded data removed]",
      "text/plain": [
       "<Figure size 720x576 with 1 Axes>"
      ]
     },
     "metadata": {
      "needs_background": "light"
     },
     "output_type": "display_data"
    }
   ],
   "source": [
    "plt.figure(figsize=(10,8))\n",
    "plt.plot(model.history.history['loss'])\n",
    "plt.plot(model.history.history['val_loss'])\n",
    "plt.title('Loss Performance of Predictive LSTM Model', fontsize=24 ,fontweight='bold')\n",
    "plt.ylabel('Loss [MSE]', fontsize=20)\n",
    "plt.xlabel('Epoch', fontsize=20)\n",
    "plt.rcParams['xtick.labelsize']=15\n",
    "plt.rcParams['ytick.labelsize']=15\n",
    "plt.legend(['Train data', 'Test data'], fontsize=20)\n",
    "plt.show()"
   ]
  },
  {
   "cell_type": "code",
   "execution_count": null,
   "metadata": {},
   "outputs": [],
   "source": [
    "np.savetxt(\"D:\\\\berlin_sensordata.csv\", ypred, delimiter=\",\")"
   ]
  },
  {
   "cell_type": "code",
   "execution_count": null,
   "metadata": {},
   "outputs": [],
   "source": [
    "dff=pd.(ypred())\n",
    "dff.to_csv('D:\\\\berlin_sensordata_.csv', sep=',', header=None, index=None)"
   ]
  }
 ],
 "metadata": {
  "colab": {
   "name": "Untitled8.ipynb",
   "provenance": []
  },
  "kernelspec": {
   "display_name": "Python 3",
   "language": "python",
   "name": "python3"
  },
  "language_info": {
   "codemirror_mode": {
    "name": "ipython",
    "version": 3
   },
   "file_extension": ".py",
   "mimetype": "text/x-python",
   "name": "python",
   "nbconvert_exporter": "python",
   "pygments_lexer": "ipython3",
   "version": "3.8.2"
  }
 },
 "nbformat": 4,
 "nbformat_minor": 1
}
